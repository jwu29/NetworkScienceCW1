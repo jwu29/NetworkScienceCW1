{
 "cells": [
  {
   "cell_type": "markdown",
   "metadata": {},
   "source": [
    "## Network Science Project 1\n",
    "### Autumn 2022\n",
    "### Due: November 4th, 1:00pm GMT"
   ]
  },
  {
   "cell_type": "markdown",
   "metadata": {},
   "source": [
    "Please provide the following information:\n",
    "\n",
    "Group number:\n",
    "\n",
    "CID #1:\n",
    "\n",
    "CID #2:\n",
    "\n",
    "CID #3:"
   ]
  },
  {
   "cell_type": "code",
   "execution_count": 2,
   "metadata": {},
   "outputs": [],
   "source": [
    "# Do not modify this cell or import any other modules\n",
    "# without explicit permission. \n",
    "# You should run this cell before running the code below.\n",
    "import numpy as np\n",
    "%matplotlib inline\n",
    "import matplotlib.pyplot as plt\n",
    "#You may also use scipy as needed"
   ]
  },
  {
   "cell_type": "markdown",
   "metadata": {},
   "source": [
    "### Overview"
   ]
  },
  {
   "cell_type": "markdown",
   "metadata": {},
   "source": [
    "When working on real-world problems, we often encounter *weighted* networks. In this assignment, you will work through a set of tasks using data for a weighted directed network where the nodes correspond to regions of the human brain with particular functions, and weighted links indicate the density of neuron fiber pathways between regions. You have been provided a file containing the network data which should be stored in the same folder as this notebook. Run the cell below to verify that you can load the graph."
   ]
  },
  {
   "cell_type": "code",
   "execution_count": 5,
   "metadata": {},
   "outputs": [
    {
     "name": "stdout",
     "output_type": "stream",
     "text": [
      "<class 'networkx.classes.digraph.DiGraph'>\n",
      "N= 872\n",
      "L= 4036\n"
     ]
    }
   ],
   "source": [
    "import networkx as nx\n",
    "g = nx.read_graphml('project1.graphml')\n",
    "g = nx.convert_node_labels_to_integers(g)\n",
    "print(type(g))\n",
    "print(\"N=\",g.number_of_nodes())\n",
    "print(\"L=\",g.number_of_edges())\n"
   ]
  },
  {
   "cell_type": "markdown",
   "metadata": {},
   "source": [
    "The output from the cell above should indicate that g is a DiGraph with 872 nodes and 4036 links. \n",
    "\n",
    "Note that the label assigned to the edge weights in g is 'eweight'."
   ]
  },
  {
   "cell_type": "markdown",
   "metadata": {},
   "source": [
    "### Part 1: degree distributions (7 points)\n",
    "\n",
    "For directed graphs, a node has two types of degrees, an in-degree ($k^{in}$) and an out-degree ($k^{out}$). For weighted graphs we have weighted versions of these degrees which can be computed as follows. Let $\\rm W$ be the *weight matrix* for a directed network where $W_{ij}$ is the weight for the link pointing from node $j$ to node $i$. If no such link exists, then $W_{ij}=0$. The weighted in- and out-degrees for node $i$ can be computed using: \n",
    "$$\\tilde k_i^{in} = \\sum_{j=1}^N W_{ij}, $$\n",
    "$$\\tilde k_i^{out} = \\sum_{j=1}^N W_{ji}. $$\n"
   ]
  },
  {
   "cell_type": "markdown",
   "metadata": {},
   "source": [
    "1. Add code to the cell below to create a well-designed figure which shows the unweighted in- and out-degree distributions for the provided graph. Both distributions should be displayed on the same plot. Below the figure, provide a 1-paragraph explanation which: 1) describes one or more important differences between the two distributions and 2) explains what the difference(s) tells you about the graph structure. You should not focus on individual degree values but instead explain trends associated with a range (or ranges) of degrees. You should use your judgement to decide what is \"important\".\n",
    "\n",
    "Note: *nx.degree_histogram* is unlikely to be helpful here, however the *np.unique* function with the *return_counts* option may be useful."
   ]
  },
  {
   "cell_type": "code",
   "execution_count": 9,
   "metadata": {},
   "outputs": [],
   "source": [
    "#Add code here\n",
    "A=nx.adjacency_matrix(g)\n",
    "A1=nx.to_numpy_array(g)\n",
    "\n",
    "k_in=nx.in_degree_centrality(g)\n",
    "k_in=list(k_in.values())\n",
    "k_in=[x*871//1 for x in k_in]\n",
    "k_in=np.unique(k_in,return_counts=True)\n",
    "\n",
    "k_out=nx.out_degree_centrality(g)\n",
    "k_out=list(k_out.values())\n",
    "k_out=[x*871//1 for x in k_out]\n",
    "k_out=np.unique(k_out,return_counts=True)\n",
    "\n",
    "plt.plot(k_in[0],k_in[1],'.g',k_out[0],k_out[1],'.r')\n",
    "plt.grid()\n",
    "plt.xlabel('In-Green     Out-Red')\n",
    "plt.title('Uneighted in- and out-degree distributions')"
   ]
  },
  {
   "cell_type": "markdown",
   "metadata": {},
   "source": [
    "*Add explanation here*\n"
   ]
  },
  {
   "cell_type": "markdown",
   "metadata": {},
   "source": [
    "2. Now develop code to create a well-designed figure which shows the **weighted** in- and out-degree distributions. Carefully examine the figure and revisit your discussion from the previous question. Explain if/to what degree your conclusions for the unweighted degree distributions apply to the weighted distributions."
   ]
  },
  {
   "cell_type": "code",
   "execution_count": 11,
   "metadata": {},
   "outputs": [
    {
     "data": {
      "text/plain": [
       "Text(0.5, 1.0, 'distributions')"
      ]
     },
     "execution_count": 11,
     "metadata": {},
     "output_type": "execute_result"
    },
    {
     "data": {
      "image/png": "[encoded data removed]",
      "text/plain": [
       "<Figure size 432x288 with 1 Axes>"
      ]
     },
     "metadata": {
      "needs_background": "light"
     },
     "output_type": "display_data"
    }
   ],
   "source": [
    "#Add code here\n",
    "W = nx.to_numpy_array(g)\n",
    "k_in = [g.in_degree(n) for n in g]\n",
    "k_out = [g.out_degree(n) for n in g]\n",
    "\n",
    "degree_k_in, count_k_in = np.unique(k_in, return_counts=True)\n",
    "degree_k_out, count_k_out = np.unique(k_out, return_counts=True)\n",
    "\n",
    "p_degree_k_in = count_k_in/g.number_of_nodes()\n",
    "p_degree_k_out = count_k_out/g.number_of_nodes()\n",
    "\n",
    "plt.plot(degree_k_in, p_degree_k_in,'.b')\n",
    "plt.plot(degree_k_out, p_degree_k_out,'.r')\n",
    "plt.grid()\n",
    "plt.xlabel('In-Blue     Out-Red')\n",
    "plt.title('distributions')"
   ]
  },
  {
   "cell_type": "markdown",
   "metadata": {},
   "source": [
    "*Add explanation here*\n",
    "\n"
   ]
  },
  {
   "cell_type": "markdown",
   "metadata": {},
   "source": [
    "### Part 2: centrality (9 points)\n",
    "\n",
    "You will now develop your own code to compute the PageRank centrality. Recall that the PageRank centrality of node $i$ is typically given by: $$x_i = \\sum_{j=1}^N\\left[\\left(1-m\\right)\\frac{A_{ij}}{max(k_j^{out},1)}x_j + \\frac{m}{N}x_j\\right],$$ where $\\rm A$ is the adjacency matrix for a graph, $N$ is the number of nodes, and we will use $m=0.15$ throughout this assigment. "
   ]
  },
  {
   "cell_type": "markdown",
   "metadata": {},
   "source": [
    "1. Complete the function below to *efficiently* compute the PageRank centrality for the provided graph using the power method. Code for the initial guess for the centrality vector, $\\textrm{y}^{(0)}$ has been provided. Let $\\textrm{y}^{(i)}$ be the vector produced by the $i^{th}$ iteration of the power method with $i>0$. This vector should be normalized so that its maximum value is 1. There is no need to use any other normalization (e.g. based on the vector's magnitude). Let $d_j^{(i)}=|y_j^{(i)}-y_j^{(i-1)}|, j \\in \\left\\{1,2,...,N\\right\\}$. The power method iterations should terminate when $max\\left\\{ d_1^{(i)}, d_2^{(i)}, ..., d_N^{(i)}\\right\\}<tol$ where *tol* is an input variable for the function.\n",
    "\n",
    "You should think carefully about how to avoid unnecessary calculations and unnecessary loops. You may use numpy and scipy as needed. If using scipy, add the appropriate import statements to the cell below within the function. **Do not use or import any other modules for this question**. Your code should not use any variables created outside of the function other than those provided as input (A and tol). Below the function, provide a 2-3 sentence explanation of the main steps you have taken to make your code efficient."
   ]
  },
  {
   "cell_type": "code",
   "execution_count": null,
   "metadata": {},
   "outputs": [],
   "source": [
    "def pageRank(A,tol=1e-8):\n",
    "    \"\"\"\n",
    "    Compute PageRank centrality for N-node graph with adjacency matrix A\n",
    "\n",
    "    Input:\n",
    "    A: The adjacency matrix of the graph generated in the cell below\n",
    "    tol: tolerance used to terminate iterations of power method\n",
    "    \n",
    "    Output:\n",
    "    y: N-element numpy array containing the centrality vector\n",
    "\n",
    "    Please do not modify the function input or the return statement below\n",
    "    \"\"\"\n",
    "    import scipy.sparse as sp\n",
    "    m = 0.15\n",
    "    N = A.shape[0] #number of nodes\n",
    "    \n",
    "    y0 = np.random.rand(N) #initial trial vector\n",
    "    \n",
    "    A_array = A.toarray()\n",
    "    k_out = np.sum(A_array, axis = 0)\n",
    "    G = (1-m)*A_array/k_out + (m/N)\n",
    "    \n",
    "    y_old = y0.copy()\n",
    "    y_old = y_old/max(y_old)\n",
    "    G_y = np.dot(G, y_old)\n",
    "    y_new = G_y/np.max(G_y)\n",
    "    \n",
    "    while np.max(abs(y_new-y_old))>=tol:\n",
    "        y_old = y_new\n",
    "        y_new = np.dot(G, y_old)\n",
    "        y_new = y_new/np.max(y_new)\n",
    "    \n",
    "    y = y_new\n",
    "\n",
    "    return y\n"
   ]
  },
  {
   "cell_type": "code",
   "execution_count": null,
   "metadata": {},
   "outputs": [],
   "source": [
    "#Code for calling pageRank function\n",
    "A = nx.adjacency_matrix(g).T\n",
    "x = pageRank(A,tol=1e-12)"
   ]
  },
  {
   "cell_type": "markdown",
   "metadata": {},
   "source": [
    "*Add brief discussion here*\n",
    "\n"
   ]
  },
  {
   "cell_type": "markdown",
   "metadata": {},
   "source": [
    "2. PageRank can be naturally modified for weighted graphs to:\n",
    "$$\\tilde{x}_i = \\sum_{j=1}^N\\left[\\left(1-m\\right)\\frac{W_{ij}}{max(\\tilde{k}_j^{out},1)}\\tilde{x}_j + \\frac{m}{N}\\tilde{x}_j\\right],$$\n",
    "\n",
    "Complete the function below to efficiently compute this modified PageRank centrality for the nodes in the provided graph using the power method. The same guidance and restrictions from the previous question apply here as well. It is completely fine to reuse code from your pageRank function above as needed. "
   ]
  },
  {
   "cell_type": "code",
   "execution_count": null,
   "metadata": {},
   "outputs": [],
   "source": [
    "def pageRankW(W,tol=1e-8):\n",
    "    \"\"\"\n",
    "    Compute Weighted PageRank centrality for N-node graph with weight matrix W\n",
    "\n",
    "    Input:\n",
    "    W: The weight matrix of the graph generated in the cell below\n",
    "    tol: tolerance used to terminate iterations of power method\n",
    "    \n",
    "    Output:\n",
    "    y: N-element numpy array containing the centrality vector\n",
    "    \n",
    "    Please do not modify the function input or the return statement below\n",
    "    \"\"\"\n",
    "    import scipy.sparse as sp\n",
    "    m=0.15\n",
    "    N = A.shape[0] #number of nodes\n",
    "    \n",
    "    y0 = np.random.rand(N) #initial trial vector\n",
    "    \n",
    "    W_array = W.toarray()\n",
    "    k_out = np.sum(W_array, axis = 0)\n",
    "    G = (1-m)*W_array/k_out + (m/N)\n",
    "    \n",
    "    y_old = y0.copy()\n",
    "    y_old = y_old/max(y_old)\n",
    "    G_y = np.dot(G, y_old)\n",
    "    y_new = G_y/np.max(G_y)\n",
    "    \n",
    "    while np.max(abs(y_new-y_old))>=tol:\n",
    "        y_old = y_new\n",
    "        y_new = np.dot(G, y_old)\n",
    "        y_new = y_new/np.max(y_new)\n",
    "    \n",
    "    y = y_new\n",
    "    \n",
    "    return y\n"
   ]
  },
  {
   "cell_type": "code",
   "execution_count": null,
   "metadata": {},
   "outputs": [],
   "source": [
    "#Code for calling pageRank function\n",
    "W = nx.adjacency_matrix(g,weight='eweight').T\n",
    "x_tilde = pageRankW(W,tol=1e-12)"
   ]
  },
  {
   "cell_type": "markdown",
   "metadata": {},
   "source": [
    "*No discussion of pageRankW function is needed*"
   ]
  },
  {
   "cell_type": "markdown",
   "metadata": {},
   "source": [
    "3. Examine your results for the centralities, and compare the ten most important nodes as ranked by (1) the unweighted in-degree centrality, (2) the unweighted PageRank centrality, and (3) the weighted PageRank centrality. Add code to the cell below to support your comparison. Provide a brief non-technical description of how much agreement there is between (1) and (2) and between (2) and 3). Your code may generate 1-2 figures, simply print out lists of the most important nodes, or do something else that is comparably useful."
   ]
  },
  {
   "cell_type": "code",
   "execution_count": 1,
   "metadata": {},
   "outputs": [],
   "source": [
    "#Add code here\n",
    "in_degree = list(A.sum(axis = 1)/np.max(A.sum(axis = 1)))\n",
    "x_list = list(x.transpose())\n",
    "x_tilde_list = list(x_tilde.transpose())\n",
    "\n",
    "top10_in = []\n",
    "top10_x = []\n",
    "top10_x_tilde = []\n",
    "\n",
    "for i in range(10):\n",
    "    top_10_in.append(np.max(in_degree))\n",
    "    in_degree.remove(np.max(in_degree))\n",
    "    \n",
    "    top_10_x.append(np.max(x_list))\n",
    "    x_list.remove(np.max(x_list))\n",
    "    \n",
    "    top_10_x_tilde.append(np.max(x_tilde_list))\n",
    "    x_tilde_list.remove(np.max(x_tilde_list))\n",
    "\n",
    "\n",
    "plt.plot(top_10_in, top_10_x)\n",
    "plt.plot([0, 1])\n",
    "\n"
   ]
  },
  {
   "cell_type": "markdown",
   "metadata": {},
   "source": [
    "* Add brief description here *\n",
    "\n"
   ]
  },
  {
   "cell_type": "markdown",
   "metadata": {},
   "source": [
    "### Part 3: Visualizing a random person's brain network (4 points)"
   ]
  },
  {
   "cell_type": "markdown",
   "metadata": {},
   "source": [
    "Create a well-designed figure displaying the 100 most important nodes in the brain network and the links connecting these nodes with each other. You may use the centrality of your choice to decide which nodes are the most important. The node sizes in your figure should be set so that larger sizes correspond to more important nodes. You do not need to include node labels, edge weights, or use the edge weights to modify the displayed links.\n"
   ]
  },
  {
   "cell_type": "code",
   "execution_count": null,
   "metadata": {},
   "outputs": [],
   "source": [
    "# Add code that generates figure here\n",
    "top100 = ((np.argsort(x_tilde))[::-1][0:100] + np.ones(100)).astype(int)\n",
    "top100g = g.subgraph(top100)\n"
   ]
  },
  {
   "cell_type": "markdown",
   "metadata": {},
   "source": [
    "**Note:** If you are curious about the neuroscience aspect of this assignment, you can extract information about each graph node as in the cell below. However, note that the original graph has been \"adjusted\" a little to make it suitable for this assignment. This is just \"extra\" information and is not needed to complete the assignment."
   ]
  },
  {
   "cell_type": "code",
   "execution_count": null,
   "metadata": {},
   "outputs": [],
   "source": [
    "print(g.nodes[0])"
   ]
  },
  {
   "cell_type": "markdown",
   "metadata": {},
   "source": [
    "### Further guidance\n",
    "\n",
    "* Your group should submit both a completed Jupyter notebook and *either* a pdf version or html version of the notebook (generated using File --- Download as). If you cannot generate a pdf, try installing latex first, or submit an html version instead. Each group should make a single submission.\n",
    "    To submit your assignment, go to the Project 1 item on the module Blackboard page. There will be an option to attach your completed Jupyter notebook and pdf/html file to your submission. (these should be named *project1_groupx.ipynb* and *project1_groupx.pdf* or *project1_groupx.html* where x is your group number). \n",
    "* You may use numpy, scipy, and matplotlib as needed. You may use networkx as needed **except** for part 2, questions 1 and 2. Please do not use any other packages without explicit permission.\n",
    "* Marking will be based on the correctness of your work, the efficiency of your codes for part 2, questions 1 and 2, and the degree to which your submission reflects a good understanding of the material covered up to the release of this assignment. \n",
    "* This assignment requires sensible time-management on your part. Do not spend so much time on this assignment that it interferes substantially with your other modules. If you are concerned that your approach to the assignment may require an excessive amount of time, please get in touch with the instructor. \n",
    "* Questions about the assignment should be asked in private settings. This can be a \"private\" question on Ed (which is distinct from \"anonymous\"), asking for a one-on-one meeting during office hours, or during a problem class.\n",
    "* Please regularly backup your work. For example, you could keep an updated copy of your notebook on OneDrive.\n",
    "* In order to assign partial credit, we need to understand what your code is doing, so please add comments to the code to help us.\n",
    "* It may be helpful to initally develop your code in a Python module (outside of a function) and run it in a qtconsole (or similar Python terminal) so that you can readily access the values of the variables you are using.\n",
    "* Feel free to use/modify codes that I have provided during the term.\n"
   ]
  },
  {
   "cell_type": "code",
   "execution_count": null,
   "metadata": {},
   "outputs": [],
   "source": []
  }
 ],
 "metadata": {
  "kernelspec": {
   "display_name": "Python 3 (ipykernel)",
   "language": "python",
   "name": "python3"
  },
  "language_info": {
   "codemirror_mode": {
    "name": "ipython",
    "version": 3
   },
   "file_extension": ".py",
   "mimetype": "text/x-python",
   "name": "python",
   "nbconvert_exporter": "python",
   "pygments_lexer": "ipython3",
   "version": "3.9.12"
  }
 },
 "nbformat": 4,
 "nbformat_minor": 1
}
